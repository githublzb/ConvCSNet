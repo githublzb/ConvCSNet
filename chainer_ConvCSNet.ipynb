{
  "nbformat": 4,
  "nbformat_minor": 0,
  "metadata": {
    "colab": {
      "name": "chainer-ConvCSNet.ipynb",
      "version": "0.3.2",
      "views": {},
      "default_view": {},
      "provenance": [],
      "collapsed_sections": []
    },
    "kernelspec": {
      "name": "python3",
      "display_name": "Python 3"
    },
    "accelerator": "GPU"
  },
  "cells": [
    {
      "metadata": {
        "id": "xInjnvnCrT8e",
        "colab_type": "text"
      },
      "cell_type": "markdown",
      "source": [
        "chainerのインストール\n",
        "---"
      ]
    },
    {
      "metadata": {
        "id": "EQbxixE7qbJQ",
        "colab_type": "code",
        "colab": {
          "autoexec": {
            "startup": false,
            "wait_interval": 0
          },
          "base_uri": "https://localhost:8080/",
          "height": 326
        },
        "outputId": "e41e796c-8ce1-4136-f4bb-f4ac4e7ad896",
        "executionInfo": {
          "status": "ok",
          "timestamp": 1530345182247,
          "user_tz": -540,
          "elapsed": 9375,
          "user": {
            "displayName": "35 kibo",
            "photoUrl": "//lh3.googleusercontent.com/-9FaAuTeTMJE/AAAAAAAAAAI/AAAAAAAABqM/5hXaMOaeJEM/s50-c-k-no/photo.jpg",
            "userId": "114360884505821126281"
          }
        }
      },
      "cell_type": "code",
      "source": [
        "!apt -y install libcusparse8.0 libnvrtc8.0 libnvtoolsext1\n",
        "!ln -snf /usr/lib/x86_64-linux-gnu/libnvrtc-builtins.so.8.0 /usr/lib/x86_64-linux-gnu/libnvrtc-builtins.so\n",
        "!pip install https://github.com/kmaehashi/chainer-colab/releases/download/2018-02-06/cupy_cuda80-4.0.0b3-cp36-cp36m-linux_x86_64.whl\n",
        "!pip install 'chainer==4.0.0b3'"
      ],
      "execution_count": 4,
      "outputs": [
        {
          "output_type": "stream",
          "text": [
            "Reading package lists... Done\n",
            "Building dependency tree       \n",
            "Reading state information... Done\n",
            "libcusparse8.0 is already the newest version (8.0.61-1).\n",
            "libnvrtc8.0 is already the newest version (8.0.61-1).\n",
            "libnvtoolsext1 is already the newest version (8.0.61-1).\n",
            "0 upgraded, 0 newly installed, 0 to remove and 6 not upgraded.\n",
            "Requirement already satisfied: cupy-cuda80==4.0.0b3 from https://github.com/kmaehashi/chainer-colab/releases/download/2018-02-06/cupy_cuda80-4.0.0b3-cp36-cp36m-linux_x86_64.whl in /usr/local/lib/python3.6/dist-packages (4.0.0b3)\n",
            "Requirement already satisfied: numpy>=1.9.0 in /usr/local/lib/python3.6/dist-packages (from cupy-cuda80==4.0.0b3) (1.14.5)\n",
            "Requirement already satisfied: fastrlock>=0.3 in /usr/local/lib/python3.6/dist-packages (from cupy-cuda80==4.0.0b3) (0.3)\n",
            "Requirement already satisfied: six>=1.9.0 in /usr/local/lib/python3.6/dist-packages (from cupy-cuda80==4.0.0b3) (1.11.0)\n",
            "Requirement already satisfied: chainer==4.0.0b3 in /usr/local/lib/python3.6/dist-packages (4.0.0b3)\n",
            "Requirement already satisfied: numpy>=1.9.0 in /usr/local/lib/python3.6/dist-packages (from chainer==4.0.0b3) (1.14.5)\n",
            "Requirement already satisfied: six>=1.9.0 in /usr/local/lib/python3.6/dist-packages (from chainer==4.0.0b3) (1.11.0)\n",
            "Requirement already satisfied: protobuf>=3.0.0 in /usr/local/lib/python3.6/dist-packages (from chainer==4.0.0b3) (3.6.0)\n",
            "Requirement already satisfied: filelock in /usr/local/lib/python3.6/dist-packages (from chainer==4.0.0b3) (3.0.4)\n",
            "Requirement already satisfied: setuptools in /usr/local/lib/python3.6/dist-packages (from protobuf>=3.0.0->chainer==4.0.0b3) (39.1.0)\n"
          ],
          "name": "stdout"
        }
      ]
    },
    {
      "metadata": {
        "id": "q-4ZMgRhslzI",
        "colab_type": "text"
      },
      "cell_type": "markdown",
      "source": [
        "インポート\n",
        "---"
      ]
    },
    {
      "metadata": {
        "id": "kCCzXXclrOsV",
        "colab_type": "code",
        "colab": {
          "autoexec": {
            "startup": false,
            "wait_interval": 0
          }
        }
      },
      "cell_type": "code",
      "source": [
        "import numpy as np\n",
        "import chainer\n",
        "from chainer import cuda, Function, gradient_check, report, training, utils, Variable\n",
        "from chainer import datasets, iterators, optimizers, serializers\n",
        "from chainer import Link, Chain, ChainList\n",
        "import chainer.functions as F\n",
        "import chainer.links as L\n",
        "from chainer.training import extensions\n",
        "from chainer.datasets import tuple_dataset\n"
      ],
      "execution_count": 0,
      "outputs": []
    },
    {
      "metadata": {
        "id": "NVjxAmfZsC3B",
        "colab_type": "text"
      },
      "cell_type": "markdown",
      "source": [
        "ConvCSNet\n",
        "---\n",
        "[ConvCSNet: A Convolutional Compressive Sensing Framework Based on Deep Learning](https://arxiv.org/abs/1801.10342)"
      ]
    },
    {
      "metadata": {
        "id": "Dy_G150Vr0iH",
        "colab_type": "code",
        "colab": {
          "autoexec": {
            "startup": false,
            "wait_interval": 0
          }
        }
      },
      "cell_type": "code",
      "source": [
        "class ConvCSNet(Chain):\n",
        "    def __init__(self, k, m, s):\n",
        "        super(ConvCSNet, self).__init__(\n",
        "\n",
        "            cs_c1 = L.Convolution2D(None, m, k, stride=s, pad=k//2),\n",
        "            cs_c2 = L.Convolution2D(None, 96, 3, pad=1),\n",
        "            cs_c3 = L.Convolution2D(None, 96, 3, pad=1),\n",
        "            cs_c4 = L.Convolution2D(None, 96, 3, pad=1),\n",
        "            cs_c5 = L.Convolution2D(None, 96, 3, pad=1),\n",
        "            cs_c6 = L.Convolution2D(None, 96, 3, pad=1),\n",
        "            cs_c7 = L.Convolution2D(None, 96, 3, pad=1),\n",
        "            cs_c8 = L.Convolution2D(None, 96, 3, pad=1),\n",
        "            cs_c9 = L.Convolution2D(None, 96, 3, pad=1),\n",
        "            cs_c10 = L.Convolution2D(None, 96, 3, pad=1),\n",
        "            cs_c11 = L.Convolution2D(None, 96, 3, pad=1),\n",
        "            cs_c12 = L.Convolution2D(None, 96, 3, pad=1),\n",
        "            cs_c13 = L.Convolution2D(None, 96, 3, pad=1),\n",
        "            cs_c14 = L.Convolution2D(None, 96, 3, pad=1),\n",
        "            cs_c15 = L.Convolution2D(None, 96, 3, pad=1),\n",
        "            \n",
        "            recon_c1 = L.Convolution2D(None, 1, k, pad=k // 2),\n",
        "            recon_c2 = L.Convolution2D(None, 1, 3, pad=1),\n",
        "            recon_c3 = L.Convolution2D(None, 1, 3, pad=1),\n",
        "            recon_c4 = L.Convolution2D(None, 1, 3, pad=1),\n",
        "            recon_c5 = L.Convolution2D(None, 1, 3, pad=1),\n",
        "            recon_c6 = L.Convolution2D(None, 1, 3, pad=1),\n",
        "            recon_c7 = L.Convolution2D(None, 1, 3, pad=1),\n",
        "            recon_c8 = L.Convolution2D(None, 1, 3, pad=1),\n",
        "            recon_c9 = L.Convolution2D(None, 1, 3, pad=1),\n",
        "            recon_c10 = L.Convolution2D(None, 1, 3, pad=1),\n",
        "            recon_c11 = L.Convolution2D(None, 1, 3, pad=1),\n",
        "            recon_c12 = L.Convolution2D(None, 1, 3, pad=1),\n",
        "            recon_c13 = L.Convolution2D(None, 1, 3, pad=1),\n",
        "            recon_c14 = L.Convolution2D(None, 1, 3, pad=1),\n",
        "            recon_c15 = L.Convolution2D(None, 1, 3, pad=1),\n",
        "            \n",
        "            )\n",
        "        self.k = k\n",
        "        self.m = m\n",
        "        self.s = s\n",
        "\n",
        "    def __call__(self, x):\n",
        "        \n",
        "        cs = self.cs_c1(x)\n",
        "        \n",
        "        h = Variable(cuda.cupy.zeros((x.shape[0], self.m, x.shape[2], x.shape[3]), cuda.cupy.float32))\n",
        "        for row in range(cs.shape[2]):\n",
        "          for col in range(cs.shape[3]):\n",
        "            h.data[:, :, row * self.s, col * self.s] = cs.data[:, :, row, col]\n",
        "        \n",
        "        y0 = self.recon_c1(h)\n",
        "        \n",
        "        h = F.relu(self.cs_c2(h))\n",
        "        y = self.recon_c2(h) \n",
        "        h = F.relu(self.cs_c3(h))\n",
        "        y = self.recon_c3(h) + y0 + y \n",
        "        h = F.relu(self.cs_c4(h))\n",
        "        y = self.recon_c4(h) + y0 + y \n",
        "        h = F.relu(self.cs_c5(h))\n",
        "        y = self.recon_c5(h) + y0 + y \n",
        "        h = F.relu(self.cs_c6(h))\n",
        "        y = self.recon_c6(h) + y0 + y \n",
        "        h = F.relu(self.cs_c7(h))\n",
        "        y = self.recon_c7(h) + y0 + y \n",
        "        h = F.relu(self.cs_c8(h))\n",
        "        y = self.recon_c8(h) + y0 + y \n",
        "        h = F.relu(self.cs_c9(h))\n",
        "        y = self.recon_c9(h) + y0 + y \n",
        "        h = F.relu(self.cs_c10(h))\n",
        "        y = self.recon_c10(h) + y0 + y \n",
        "        h = F.relu(self.cs_c11(h))\n",
        "        y = self.recon_c11(h) + y0 + y \n",
        "        h = F.relu(self.cs_c12(h))\n",
        "        y = self.recon_c12(h) + y0 + y \n",
        "        h = F.relu(self.cs_c13(h))\n",
        "        y = self.recon_c13(h) + y0 + y \n",
        "        h = F.relu(self.cs_c14(h))\n",
        "        y = self.recon_c14(h) + y0 + y \n",
        "        h = F.relu(self.cs_c15(h))\n",
        "        y = self.recon_c15(h) + y0 + y \n",
        "        \n",
        "        return y\n"
      ],
      "execution_count": 0,
      "outputs": []
    },
    {
      "metadata": {
        "id": "W6t6LAHW1nkw",
        "colab_type": "code",
        "colab": {
          "autoexec": {
            "startup": false,
            "wait_interval": 0
          },
          "resources": {
            "http://localhost:8080/nbextensions/google.colab/files.js": {
              "data": "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",
              "ok": true,
              "headers": [
                [
                  "content-type",
                  "application/javascript"
                ]
              ],
              "status": 200,
              "status_text": ""
            }
          },
          "base_uri": "https://localhost:8080/",
          "height": 69
        },
        "outputId": "eae90014-0ee5-4112-862d-1472c5741739",
        "executionInfo": {
          "status": "ok",
          "timestamp": 1530350899089,
          "user_tz": -540,
          "elapsed": 367864,
          "user": {
            "displayName": "35 kibo",
            "photoUrl": "//lh3.googleusercontent.com/-9FaAuTeTMJE/AAAAAAAAAAI/AAAAAAAABqM/5hXaMOaeJEM/s50-c-k-no/photo.jpg",
            "userId": "114360884505821126281"
          }
        }
      },
      "cell_type": "code",
      "source": [
        "from google.colab import files\n",
        "uploaded = files.upload()"
      ],
      "execution_count": 19,
      "outputs": [
        {
          "output_type": "display_data",
          "data": {
            "text/html": [
              "\n",
              "     <input type=\"file\" id=\"files-cd869b41-4479-46fa-8de4-611274a6e9c4\" name=\"files[]\" multiple disabled />\n",
              "     <output id=\"result-cd869b41-4479-46fa-8de4-611274a6e9c4\">\n",
              "      Upload widget is only available when the cell has been executed in the\n",
              "      current browser session. Please rerun this cell to enable.\n",
              "      </output>\n",
              "      <script src=\"/nbextensions/google.colab/files.js\"></script> "
            ],
            "text/plain": [
              "<IPython.core.display.HTML object>"
            ]
          },
          "metadata": {
            "tags": []
          }
        },
        {
          "output_type": "stream",
          "text": [
            "Saving BSD100.tar to BSD100.tar\n"
          ],
          "name": "stdout"
        }
      ]
    },
    {
      "metadata": {
        "id": "xhszV_EY1pig",
        "colab_type": "code",
        "colab": {
          "autoexec": {
            "startup": false,
            "wait_interval": 0
          },
          "base_uri": "https://localhost:8080/",
          "height": 3434
        },
        "outputId": "95fe2336-8d0c-4d65-bb4d-6c9580a76b37",
        "executionInfo": {
          "status": "ok",
          "timestamp": 1530351019254,
          "user_tz": -540,
          "elapsed": 1861,
          "user": {
            "displayName": "35 kibo",
            "photoUrl": "//lh3.googleusercontent.com/-9FaAuTeTMJE/AAAAAAAAAAI/AAAAAAAABqM/5hXaMOaeJEM/s50-c-k-no/photo.jpg",
            "userId": "114360884505821126281"
          }
        }
      },
      "cell_type": "code",
      "source": [
        "!tar -xvf BSD100.tar"
      ],
      "execution_count": 20,
      "outputs": [
        {
          "output_type": "stream",
          "text": [
            "BSD100/\r\n",
            "BSD100/._img_018_SRF_2_HR.png\r\n",
            "BSD100/img_018_SRF_2_HR.png\r\n",
            "BSD100/._img_058_SRF_2_HR.png\r\n",
            "BSD100/img_058_SRF_2_HR.png\r\n",
            "BSD100/._img_096_SRF_2_HR.png\r\n",
            "BSD100/img_096_SRF_2_HR.png\r\n",
            "BSD100/._img_069_SRF_2_HR.png\r\n",
            "BSD100/img_069_SRF_2_HR.png\r\n",
            "BSD100/._img_091_SRF_2_HR.png\r\n",
            "BSD100/img_091_SRF_2_HR.png\r\n",
            "BSD100/._img_084_SRF_2_HR.png\r\n",
            "BSD100/img_084_SRF_2_HR.png\r\n",
            "BSD100/._img_083_SRF_2_HR.png\r\n",
            "BSD100/img_083_SRF_2_HR.png\r\n",
            "BSD100/._img_029_SRF_2_HR.png\r\n",
            "BSD100/img_029_SRF_2_HR.png\r\n",
            "BSD100/._img_059_SRF_2_HR.png\r\n",
            "BSD100/img_059_SRF_2_HR.png\r\n",
            "BSD100/._img_019_SRF_2_HR.png\r\n",
            "BSD100/img_019_SRF_2_HR.png\r\n",
            "BSD100/._img_028_SRF_2_HR.png\r\n",
            "BSD100/img_028_SRF_2_HR.png\r\n",
            "BSD100/._img_082_SRF_2_HR.png\r\n",
            "BSD100/img_082_SRF_2_HR.png\r\n",
            "BSD100/._img_085_SRF_2_HR.png\r\n",
            "BSD100/img_085_SRF_2_HR.png\r\n",
            "BSD100/._img_090_SRF_2_HR.png\r\n",
            "BSD100/img_090_SRF_2_HR.png\r\n",
            "BSD100/._img_068_SRF_2_HR.png\r\n",
            "BSD100/img_068_SRF_2_HR.png\r\n",
            "BSD100/._img_097_SRF_2_HR.png\r\n",
            "BSD100/img_097_SRF_2_HR.png\r\n",
            "BSD100/._img_062_SRF_2_HR.png\r\n",
            "BSD100/img_062_SRF_2_HR.png\r\n",
            "BSD100/._img_037_SRF_2_HR.png\r\n",
            "BSD100/img_037_SRF_2_HR.png\r\n",
            "BSD100/._img_065_SRF_2_HR.png\r\n",
            "BSD100/img_065_SRF_2_HR.png\r\n",
            "BSD100/._img_030_SRF_2_HR.png\r\n",
            "BSD100/img_030_SRF_2_HR.png\r\n",
            "BSD100/._img_070_SRF_2_HR.png\r\n",
            "BSD100/img_070_SRF_2_HR.png\r\n",
            "BSD100/._img_025_SRF_2_HR.png\r\n",
            "BSD100/img_025_SRF_2_HR.png\r\n",
            "BSD100/._img_100_SRF_2_HR.png\r\n",
            "BSD100/img_100_SRF_2_HR.png\r\n",
            "BSD100/._img_088_SRF_2_HR.png\r\n",
            "BSD100/img_088_SRF_2_HR.png\r\n",
            "BSD100/._img_077_SRF_2_HR.png\r\n",
            "BSD100/img_077_SRF_2_HR.png\r\n",
            "BSD100/._img_022_SRF_2_HR.png\r\n",
            "BSD100/img_022_SRF_2_HR.png\r\n",
            "BSD100/._img_041_SRF_2_HR.png\r\n",
            "BSD100/img_041_SRF_2_HR.png\r\n",
            "BSD100/._img_014_SRF_2_HR.png\r\n",
            "BSD100/img_014_SRF_2_HR.png\r\n",
            "BSD100/._img_046_SRF_2_HR.png\r\n",
            "BSD100/img_046_SRF_2_HR.png\r\n",
            "BSD100/._img_013_SRF_2_HR.png\r\n",
            "BSD100/img_013_SRF_2_HR.png\r\n",
            "BSD100/._img_053_SRF_2_HR.png\r\n",
            "BSD100/img_053_SRF_2_HR.png\r\n",
            "BSD100/._img_006_SRF_2_HR.png\r\n",
            "BSD100/img_006_SRF_2_HR.png\r\n",
            "BSD100/._img_054_SRF_2_HR.png\r\n",
            "BSD100/img_054_SRF_2_HR.png\r\n",
            "BSD100/._img_001_SRF_2_HR.png\r\n",
            "BSD100/img_001_SRF_2_HR.png\r\n",
            "BSD100/._img_023_SRF_2_HR.png\r\n",
            "BSD100/img_023_SRF_2_HR.png\r\n",
            "BSD100/._img_076_SRF_2_HR.png\r\n",
            "BSD100/img_076_SRF_2_HR.png\r\n",
            "BSD100/._img_089_SRF_2_HR.png\r\n",
            "BSD100/img_089_SRF_2_HR.png\r\n",
            "BSD100/._img_024_SRF_2_HR.png\r\n",
            "BSD100/img_024_SRF_2_HR.png\r\n",
            "BSD100/._img_071_SRF_2_HR.png\r\n",
            "BSD100/img_071_SRF_2_HR.png\r\n",
            "BSD100/._img_031_SRF_2_HR.png\r\n",
            "BSD100/img_031_SRF_2_HR.png\r\n",
            "BSD100/._img_064_SRF_2_HR.png\r\n",
            "BSD100/img_064_SRF_2_HR.png\r\n",
            "BSD100/._img_036_SRF_2_HR.png\r\n",
            "BSD100/img_036_SRF_2_HR.png\r\n",
            "BSD100/._img_063_SRF_2_HR.png\r\n",
            "BSD100/img_063_SRF_2_HR.png\r\n",
            "BSD100/._img_055_SRF_2_HR.png\r\n",
            "BSD100/img_055_SRF_2_HR.png\r\n",
            "BSD100/._img_007_SRF_2_HR.png\r\n",
            "BSD100/img_007_SRF_2_HR.png\r\n",
            "BSD100/._img_052_SRF_2_HR.png\r\n",
            "BSD100/img_052_SRF_2_HR.png\r\n",
            "BSD100/._img_012_SRF_2_HR.png\r\n",
            "BSD100/img_012_SRF_2_HR.png\r\n",
            "BSD100/._img_047_SRF_2_HR.png\r\n",
            "BSD100/img_047_SRF_2_HR.png\r\n",
            "BSD100/._img_015_SRF_2_HR.png\r\n",
            "BSD100/img_015_SRF_2_HR.png\r\n",
            "BSD100/._img_040_SRF_2_HR.png\r\n",
            "BSD100/img_040_SRF_2_HR.png\r\n",
            "BSD100/._img_073_SRF_2_HR.png\r\n",
            "BSD100/img_073_SRF_2_HR.png\r\n",
            "BSD100/._img_026_SRF_2_HR.png\r\n",
            "BSD100/img_026_SRF_2_HR.png\r\n",
            "BSD100/._img_074_SRF_2_HR.png\r\n",
            "BSD100/img_074_SRF_2_HR.png\r\n",
            "BSD100/._img_021_SRF_2_HR.png\r\n",
            "BSD100/img_021_SRF_2_HR.png\r\n",
            "BSD100/._img_061_SRF_2_HR.png\r\n",
            "BSD100/img_061_SRF_2_HR.png\r\n",
            "BSD100/._img_034_SRF_2_HR.png\r\n",
            "BSD100/img_034_SRF_2_HR.png\r\n",
            "BSD100/._img_066_SRF_2_HR.png\r\n",
            "BSD100/img_066_SRF_2_HR.png\r\n",
            "BSD100/._img_033_SRF_2_HR.png\r\n",
            "BSD100/img_033_SRF_2_HR.png\r\n",
            "BSD100/._img_099_SRF_2_HR.png\r\n",
            "BSD100/img_099_SRF_2_HR.png\r\n",
            "BSD100/._img_050_SRF_2_HR.png\r\n",
            "BSD100/img_050_SRF_2_HR.png\r\n",
            "BSD100/._img_005_SRF_2_HR.png\r\n",
            "BSD100/img_005_SRF_2_HR.png\r\n",
            "BSD100/._img_057_SRF_2_HR.png\r\n",
            "BSD100/img_057_SRF_2_HR.png\r\n",
            "BSD100/._img_002_SRF_2_HR.png\r\n",
            "BSD100/img_002_SRF_2_HR.png\r\n",
            "BSD100/._img_042_SRF_2_HR.png\n",
            "BSD100/img_042_SRF_2_HR.png\n",
            "BSD100/._img_017_SRF_2_HR.png\n",
            "BSD100/img_017_SRF_2_HR.png\n",
            "BSD100/._img_045_SRF_2_HR.png\n",
            "BSD100/img_045_SRF_2_HR.png\n",
            "BSD100/._img_010_SRF_2_HR.png\n",
            "BSD100/img_010_SRF_2_HR.png\n",
            "BSD100/._img_098_SRF_2_HR.png\n",
            "BSD100/img_098_SRF_2_HR.png\n",
            "BSD100/._img_032_SRF_2_HR.png\n",
            "BSD100/img_032_SRF_2_HR.png\n",
            "BSD100/._img_067_SRF_2_HR.png\n",
            "BSD100/img_067_SRF_2_HR.png\n",
            "BSD100/._img_035_SRF_2_HR.png\n",
            "BSD100/img_035_SRF_2_HR.png\n",
            "BSD100/._img_060_SRF_2_HR.png\n",
            "BSD100/img_060_SRF_2_HR.png\n",
            "BSD100/._img_020_SRF_2_HR.png\n",
            "BSD100/img_020_SRF_2_HR.png\n",
            "BSD100/._img_075_SRF_2_HR.png\n",
            "BSD100/img_075_SRF_2_HR.png\n",
            "BSD100/._img_027_SRF_2_HR.png\n",
            "BSD100/img_027_SRF_2_HR.png\n",
            "BSD100/._img_072_SRF_2_HR.png\n",
            "BSD100/img_072_SRF_2_HR.png\n",
            "BSD100/._img_011_SRF_2_HR.png\n",
            "BSD100/img_011_SRF_2_HR.png\n",
            "BSD100/._img_044_SRF_2_HR.png\n",
            "BSD100/img_044_SRF_2_HR.png\n",
            "BSD100/._img_016_SRF_2_HR.png\n",
            "BSD100/img_016_SRF_2_HR.png\n",
            "BSD100/._img_043_SRF_2_HR.png\n",
            "BSD100/img_043_SRF_2_HR.png\n",
            "BSD100/._img_003_SRF_2_HR.png\n",
            "BSD100/img_003_SRF_2_HR.png\n",
            "BSD100/._img_056_SRF_2_HR.png\n",
            "BSD100/img_056_SRF_2_HR.png\n",
            "BSD100/._img_004_SRF_2_HR.png\n",
            "BSD100/img_004_SRF_2_HR.png\n",
            "BSD100/._img_051_SRF_2_HR.png\n",
            "BSD100/img_051_SRF_2_HR.png\n",
            "BSD100/._img_009_SRF_2_HR.png\n",
            "BSD100/img_009_SRF_2_HR.png\n",
            "BSD100/._img_049_SRF_2_HR.png\n",
            "BSD100/img_049_SRF_2_HR.png\n",
            "BSD100/._img_078_SRF_2_HR.png\n",
            "BSD100/img_078_SRF_2_HR.png\n",
            "BSD100/._img_087_SRF_2_HR.png\n",
            "BSD100/img_087_SRF_2_HR.png\n",
            "BSD100/._img_080_SRF_2_HR.png\n",
            "BSD100/img_080_SRF_2_HR.png\n",
            "BSD100/._img_095_SRF_2_HR.png\n",
            "BSD100/img_095_SRF_2_HR.png\n",
            "BSD100/._img_038_SRF_2_HR.png\n",
            "BSD100/img_038_SRF_2_HR.png\n",
            "BSD100/._img_092_SRF_2_HR.png\n",
            "BSD100/img_092_SRF_2_HR.png\n",
            "BSD100/._img_048_SRF_2_HR.png\n",
            "BSD100/img_048_SRF_2_HR.png\n",
            "BSD100/._img_008_SRF_2_HR.png\n",
            "BSD100/img_008_SRF_2_HR.png\n",
            "BSD100/._img_093_SRF_2_HR.png\n",
            "BSD100/img_093_SRF_2_HR.png\n",
            "BSD100/._img_039_SRF_2_HR.png\n",
            "BSD100/img_039_SRF_2_HR.png\n",
            "BSD100/._img_094_SRF_2_HR.png\n",
            "BSD100/img_094_SRF_2_HR.png\n",
            "BSD100/._img_081_SRF_2_HR.png\n",
            "BSD100/img_081_SRF_2_HR.png\n",
            "BSD100/._img_086_SRF_2_HR.png\n",
            "BSD100/img_086_SRF_2_HR.png\n",
            "BSD100/._img_079_SRF_2_HR.png\n",
            "BSD100/img_079_SRF_2_HR.png\n"
          ],
          "name": "stdout"
        }
      ]
    },
    {
      "metadata": {
        "id": "ntje5WHpB31P",
        "colab_type": "code",
        "colab": {
          "autoexec": {
            "startup": false,
            "wait_interval": 0
          },
          "base_uri": "https://localhost:8080/",
          "height": 34
        },
        "outputId": "4d4f2393-db07-492c-9c98-7b8146cb07da",
        "executionInfo": {
          "status": "ok",
          "timestamp": 1530355930912,
          "user_tz": -540,
          "elapsed": 2089,
          "user": {
            "displayName": "35 kibo",
            "photoUrl": "//lh3.googleusercontent.com/-9FaAuTeTMJE/AAAAAAAAAAI/AAAAAAAABqM/5hXaMOaeJEM/s50-c-k-no/photo.jpg",
            "userId": "114360884505821126281"
          }
        }
      },
      "cell_type": "code",
      "source": [
        "import glob\n",
        "from skimage.io import imread\n",
        "from skimage.transform import rotate\n",
        "\n",
        "files = glob.glob('BSD100/*')\n",
        "\n",
        "ims = []\n",
        "for file in files:\n",
        "  im = imread(file, as_grey=True)\n",
        "  row, col = im.shape\n",
        "  if row > col:\n",
        "    im = im[160:320, 80:240]\n",
        "  else:\n",
        "    im = im[80:240, 160:320]\n",
        "  ims.append(im)\n",
        "  for ang in [90, 180, 270]:\n",
        "    ims.append(rotate(im, ang))\n",
        "\n",
        "ims = np.array(ims).astype(np.float32)\n",
        "ims.shape"
      ],
      "execution_count": 71,
      "outputs": [
        {
          "output_type": "execute_result",
          "data": {
            "text/plain": [
              "(400, 160, 160)"
            ]
          },
          "metadata": {
            "tags": []
          },
          "execution_count": 71
        }
      ]
    },
    {
      "metadata": {
        "id": "85TFFithB-ln",
        "colab_type": "code",
        "colab": {
          "autoexec": {
            "startup": false,
            "wait_interval": 0
          },
          "base_uri": "https://localhost:8080/",
          "height": 544
        },
        "outputId": "d1538907-aa51-4955-b916-71caa40b7d30",
        "executionInfo": {
          "status": "ok",
          "timestamp": 1530367392794,
          "user_tz": -540,
          "elapsed": 2563724,
          "user": {
            "displayName": "35 kibo",
            "photoUrl": "//lh3.googleusercontent.com/-9FaAuTeTMJE/AAAAAAAAAAI/AAAAAAAABqM/5hXaMOaeJEM/s50-c-k-no/photo.jpg",
            "userId": "114360884505821126281"
          }
        }
      },
      "cell_type": "code",
      "source": [
        "batch_size = 1\n",
        "N_epoch = 30\n",
        "gpu = 0\n",
        "N_train = 360\n",
        "\n",
        "train = tuple_dataset.TupleDataset(ims[:N_train, np.newaxis, :, :], ims[:N_train, np.newaxis, :, :])\n",
        "test  = tuple_dataset.TupleDataset(ims[N_train:, np.newaxis, :, :],  ims[N_train:, np.newaxis, :, :])\n",
        "\n",
        "model = L.Classifier(ConvCSNet(17, 8, 8),  lossfun=F.mean_squared_error)\n",
        "model.compute_accuracy = False\n",
        "model.to_gpu(gpu)\n",
        "\n",
        "optimizer = chainer.optimizers.Adam()\n",
        "optimizer.setup(model)\n",
        "\n",
        "train_iter = chainer.iterators.SerialIterator(train, batch_size)\n",
        "test_iter = chainer.iterators.SerialIterator(test, batch_size, repeat=False, shuffle=False)\n",
        "\n",
        "updater = training.updaters.StandardUpdater(train_iter, optimizer, device=gpu)\n",
        "\n",
        "trainer = training.Trainer(updater, (N_epoch, 'epoch'))\n",
        "\n",
        "trainer.extend(extensions.Evaluator(test_iter, model, device=gpu))\n",
        "\n",
        "trainer.extend(extensions.LogReport())\n",
        "trainer.extend(extensions.PrintReport(['epoch', 'main/loss', 'validation/main/loss', 'elapsed_time']))\n",
        "  \n",
        "trainer.run()\n"
      ],
      "execution_count": 103,
      "outputs": [
        {
          "output_type": "stream",
          "text": [
            "epoch       main/loss   validation/main/loss  elapsed_time\n",
            "\u001b[J1           0.0235509   0.00788791            86.2585       \n",
            "\u001b[J2           0.00834121  0.00538543            172.538       \n",
            "\u001b[J3           0.00770495  0.00542126            258.923       \n",
            "\u001b[J4           0.00772846  0.00644083            345.308       \n",
            "\u001b[J5           0.00783838  0.00543815            431.552       \n",
            "\u001b[J6           0.00770145  0.00625449            517.798       \n",
            "\u001b[J7           0.00760229  0.00528727            603.944       \n",
            "\u001b[J8           0.00767168  0.00530483            690.104       \n",
            "\u001b[J9           0.00752555  0.00626608            776.139       \n",
            "\u001b[J10          0.00762584  0.00525119            861.996       \n",
            "\u001b[J11          0.00778027  0.00540245            947.848       \n",
            "\u001b[J12          0.00741364  0.00565664            1033.66       \n",
            "\u001b[J13          0.0072703   0.00569367            1119.51       \n",
            "\u001b[J14          0.00739507  0.00512447            1205.32       \n",
            "\u001b[J15          0.00773893  0.00518673            1291.17       \n",
            "\u001b[J16          0.00708096  0.00563319            1377.13       \n",
            "\u001b[J17          0.00706025  0.00505699            1463.06       \n",
            "\u001b[J18          0.00716585  0.00562484            1548.53       \n",
            "\u001b[J19          0.00699833  0.00502212            1633.45       \n",
            "\u001b[J20          0.00703844  0.00547851            1718.29       \n",
            "\u001b[J21          0.00690728  0.00513579            1803.01       \n",
            "\u001b[J22          0.00686424  0.00495785            1887.75       \n",
            "\u001b[J23          0.00738355  0.004955              1972.4        \n",
            "\u001b[J24          0.00668431  0.00535078            2057.08       \n",
            "\u001b[J25          0.00662696  0.00497435            2141.7        \n",
            "\u001b[J26          0.0065368   0.00510915            2226.05       \n",
            "\u001b[J27          0.00647936  0.00491264            2310.26       \n",
            "\u001b[J28          0.00671159  0.00522673            2394.42       \n",
            "\u001b[J29          0.00641844  0.00495199            2478.61       \n",
            "\u001b[J30          0.00651131  0.00568692            2562.84       \n"
          ],
          "name": "stdout"
        }
      ]
    },
    {
      "metadata": {
        "id": "ZiMK5JpPLcsF",
        "colab_type": "code",
        "colab": {
          "autoexec": {
            "startup": false,
            "wait_interval": 0
          },
          "base_uri": "https://localhost:8080/",
          "height": 254
        },
        "outputId": "a57f6385-ea60-435d-bef7-6471c99c880e",
        "executionInfo": {
          "status": "ok",
          "timestamp": 1530367561934,
          "user_tz": -540,
          "elapsed": 1446,
          "user": {
            "displayName": "35 kibo",
            "photoUrl": "//lh3.googleusercontent.com/-9FaAuTeTMJE/AAAAAAAAAAI/AAAAAAAABqM/5hXaMOaeJEM/s50-c-k-no/photo.jpg",
            "userId": "114360884505821126281"
          }
        }
      },
      "cell_type": "code",
      "source": [
        "import matplotlib.pyplot as plt\n",
        "\n",
        "y = model.predictor(cuda.cupy.array(ims[N_train:N_train + 1, np.newaxis, :, :]))\n",
        "y = cuda.to_cpu(y.data)\n",
        "\n",
        "fig, ax = plt.subplots(1, 2)\n",
        "ax[0].imshow(ims[N_train], cmap='gray')\n",
        "ax[1].imshow(y[0, 0], cmap='gray')\n",
        "for a in ax:\n",
        "  a.axis('off')\n",
        "  \n",
        "plt.savefig(\"result.png\", dpi=220)"
      ],
      "execution_count": 107,
      "outputs": [
        {
          "output_type": "display_data",
          "data": {
            "image/png": "[encoded data removed]",
            "text/plain": [
              "<matplotlib.figure.Figure at 0x7f44f3ff5358>"
            ]
          },
          "metadata": {
            "tags": []
          }
        }
      ]
    },
    {
      "metadata": {
        "id": "IaSv4jWNyJVh",
        "colab_type": "code",
        "colab": {
          "autoexec": {
            "startup": false,
            "wait_interval": 0
          }
        }
      },
      "cell_type": "code",
      "source": [
        ""
      ],
      "execution_count": 0,
      "outputs": []
    }
  ]
}